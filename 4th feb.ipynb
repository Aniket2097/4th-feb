{
 "cells": [
  {
   "cell_type": "code",
   "execution_count": null,
   "id": "2ab95745-9b23-4f7c-87f4-19092a03a12f",
   "metadata": {},
   "outputs": [],
   "source": [
    "Q1. Create a python program to sort the given list of tuples based on integer value using a\n",
    "lambda function.\n",
    "[('Sachin Tendulkar', 34357), ('Ricky Ponting', 27483), ('Jack Kallis', 25534), ('Virat Kohli', 24936)]"
   ]
  },
  {
   "cell_type": "code",
   "execution_count": 1,
   "id": "bb4601f0-b909-4180-8cfd-e478934eb6ec",
   "metadata": {},
   "outputs": [],
   "source": [
    "l = [('Ricky Ponting',27483),('Sachin Tendulker',34357),('Jack Kallis',25534),('virat kohli',24936)]"
   ]
  },
  {
   "cell_type": "code",
   "execution_count": 2,
   "id": "7a27a529-0ebe-47a8-a203-5f9df5f0b0a7",
   "metadata": {},
   "outputs": [
    {
     "data": {
      "text/plain": [
       "[('virat kohli', 24936),\n",
       " ('Jack Kallis', 25534),\n",
       " ('Ricky Ponting', 27483),\n",
       " ('Sachin Tendulker', 34357)]"
      ]
     },
     "execution_count": 2,
     "metadata": {},
     "output_type": "execute_result"
    }
   ],
   "source": [
    "l_sorted=sorted(l,key=lambda i:i[1])\n",
    "l_sorted"
   ]
  },
  {
   "cell_type": "code",
   "execution_count": null,
   "id": "75f24a7a-8d04-4cac-ad7a-e76b0bbf418e",
   "metadata": {},
   "outputs": [],
   "source": [
    "Q2. Write a Python Program to find the squares of all the numbers in the given list of integers using\n",
    "lambda and map functions.\n",
    "[1, 2, 3, 4, 5, 6, 7, 8, 9, 10]"
   ]
  },
  {
   "cell_type": "code",
   "execution_count": 11,
   "id": "b02aa2d2-13ad-4606-b213-27169c3230b7",
   "metadata": {},
   "outputs": [],
   "source": [
    "l = [1, 2, 3, 4, 5, 6, 7, 8, 9, 10]"
   ]
  },
  {
   "cell_type": "code",
   "execution_count": 13,
   "id": "a0409536-d7af-4bbd-b6d6-26ef04795195",
   "metadata": {},
   "outputs": [],
   "source": [
    "l2 = list(map(lambda x : x ** 2, l))"
   ]
  },
  {
   "cell_type": "code",
   "execution_count": 14,
   "id": "a21f2d24-941d-4cd2-bbd1-2041d8e26d83",
   "metadata": {},
   "outputs": [
    {
     "data": {
      "text/plain": [
       "[1, 4, 9, 16, 25, 36, 49, 64, 81, 100]"
      ]
     },
     "execution_count": 14,
     "metadata": {},
     "output_type": "execute_result"
    }
   ],
   "source": [
    "l2"
   ]
  },
  {
   "cell_type": "code",
   "execution_count": null,
   "id": "e228b2e5-1eee-4cc7-abb7-9af1efad9697",
   "metadata": {},
   "outputs": [],
   "source": [
    "Q3. Write a python program to convert the given list of integers into a tuple of strings. Use map and\n",
    "lambda functions\n",
    "Given String: [1, 2, 3, 4, 5, 6, 7, 8, 9, 10]\n",
    "Expected output: ('1', '2', '3', '4', '5', '6', '7', '8', '9', '10')"
   ]
  },
  {
   "cell_type": "code",
   "execution_count": 15,
   "id": "e2e910fa-e44b-4bba-8e92-a510232056e7",
   "metadata": {},
   "outputs": [],
   "source": [
    "l = [1, 2, 3, 4, 5, 6, 7, 8, 9, 10]"
   ]
  },
  {
   "cell_type": "code",
   "execution_count": 16,
   "id": "8d680250-b12a-45db-ba6a-847351ea571e",
   "metadata": {},
   "outputs": [
    {
     "data": {
      "text/plain": [
       "('1', '2', '3', '4', '5', '6', '7', '8', '9', '10')"
      ]
     },
     "execution_count": 16,
     "metadata": {},
     "output_type": "execute_result"
    }
   ],
   "source": [
    "tuple(map(lambda x : str(x),l))"
   ]
  },
  {
   "cell_type": "code",
   "execution_count": null,
   "id": "a953753f-515e-4009-af16-c34e2beb5c5d",
   "metadata": {},
   "outputs": [],
   "source": [
    "Q4. Write a python program using reduce function to compute the product of a list containing numbers\n",
    "from 1 to 25."
   ]
  },
  {
   "cell_type": "code",
   "execution_count": 17,
   "id": "417f4fc7-b9e0-4775-a87d-f786967956b7",
   "metadata": {},
   "outputs": [],
   "source": [
    "l = list(range(1,26))"
   ]
  },
  {
   "cell_type": "code",
   "execution_count": 20,
   "id": "70b2b2cf-ca95-4a43-876e-a4f9c3926cfb",
   "metadata": {},
   "outputs": [
    {
     "data": {
      "text/plain": [
       "15511210043330985984000000"
      ]
     },
     "execution_count": 20,
     "metadata": {},
     "output_type": "execute_result"
    }
   ],
   "source": [
    "from functools import reduce\n",
    "reduce(lambda x , y : x*y , l)"
   ]
  },
  {
   "cell_type": "code",
   "execution_count": null,
   "id": "c3298e96-51ef-4b08-b0fe-fda59fe3fc09",
   "metadata": {},
   "outputs": [],
   "source": [
    "Q5. Write a python program to filter the numbers in a given list that are divisible by 2 and 3 using the\n",
    "filter function.\n",
    "[2, 3, 6, 9, 27, 60, 90, 120, 55, 46]"
   ]
  },
  {
   "cell_type": "code",
   "execution_count": 22,
   "id": "20a3f3a8-4169-4fe9-a1a5-05b14007341a",
   "metadata": {},
   "outputs": [
    {
     "data": {
      "text/plain": [
       "[6, 60, 90, 120]"
      ]
     },
     "execution_count": 22,
     "metadata": {},
     "output_type": "execute_result"
    }
   ],
   "source": [
    "l = [2,3,6,9,27,60,90,120,55,46]\n",
    "list(filter(lambda x : x%2==0 and x%3 == 0 , l))"
   ]
  },
  {
   "cell_type": "code",
   "execution_count": null,
   "id": "a32029a6-3f94-4743-a7c3-36bdb3e61b9e",
   "metadata": {},
   "outputs": [],
   "source": [
    "Q6. Write a python program to find palindromes in the given list of strings using lambda and filter\n",
    "function.\n",
    "['python', 'php', 'aba', 'radar', 'level']"
   ]
  },
  {
   "cell_type": "code",
   "execution_count": 23,
   "id": "a4df2e99-e47a-40df-b9fe-c1665484db6c",
   "metadata": {},
   "outputs": [
    {
     "data": {
      "text/plain": [
       "['php', 'aba', 'radar', 'level']"
      ]
     },
     "execution_count": 23,
     "metadata": {},
     "output_type": "execute_result"
    }
   ],
   "source": [
    "l = ['python','php','aba','radar','level']\n",
    "list(filter(lambda x : x[::-1] == x , l))"
   ]
  },
  {
   "cell_type": "code",
   "execution_count": 24,
   "id": "787741a0-7406-4c6b-b3e3-bfb05df88c26",
   "metadata": {},
   "outputs": [],
   "source": [
    "## the end"
   ]
  },
  {
   "cell_type": "code",
   "execution_count": null,
   "id": "fb44b366-e5ba-4b40-bd17-c077c8c51d6a",
   "metadata": {},
   "outputs": [],
   "source": []
  },
  {
   "cell_type": "code",
   "execution_count": null,
   "id": "4a030899-fd77-4acc-8005-1d05427d8f80",
   "metadata": {},
   "outputs": [],
   "source": []
  }
 ],
 "metadata": {
  "kernelspec": {
   "display_name": "Python 3 (ipykernel)",
   "language": "python",
   "name": "python3"
  },
  "language_info": {
   "codemirror_mode": {
    "name": "ipython",
    "version": 3
   },
   "file_extension": ".py",
   "mimetype": "text/x-python",
   "name": "python",
   "nbconvert_exporter": "python",
   "pygments_lexer": "ipython3",
   "version": "3.10.8"
  }
 },
 "nbformat": 4,
 "nbformat_minor": 5
}
